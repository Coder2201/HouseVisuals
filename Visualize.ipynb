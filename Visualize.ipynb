{
 "cells": [
  {
   "cell_type": "code",
   "execution_count": 11,
   "metadata": {},
   "outputs": [
    {
     "name": "stdout",
     "output_type": "stream",
     "text": [
      "Collecting opencv-python-headless\n",
      "  Downloading opencv_python_headless-4.8.0.74-cp37-abi3-macosx_11_0_arm64.whl (33.1 MB)\n",
      "\u001b[2K     \u001b[90m━━━━━━━━━━━━━━━━━━━━━━━━━━━━━━━━━━━━━━━━\u001b[0m \u001b[32m33.1/33.1 MB\u001b[0m \u001b[31m30.2 MB/s\u001b[0m eta \u001b[36m0:00:00\u001b[0m00:01\u001b[0m00:01\u001b[0m\n",
      "\u001b[?25hRequirement already satisfied: numpy>=1.21.2 in /opt/homebrew/lib/python3.11/site-packages (from opencv-python-headless) (1.24.2)\n",
      "Installing collected packages: opencv-python-headless\n",
      "Successfully installed opencv-python-headless-4.8.0.74\n",
      "\n",
      "\u001b[1m[\u001b[0m\u001b[34;49mnotice\u001b[0m\u001b[1;39;49m]\u001b[0m\u001b[39;49m A new release of pip is available: \u001b[0m\u001b[31;49m23.0.1\u001b[0m\u001b[39;49m -> \u001b[0m\u001b[32;49m23.2.1\u001b[0m\n",
      "\u001b[1m[\u001b[0m\u001b[34;49mnotice\u001b[0m\u001b[1;39;49m]\u001b[0m\u001b[39;49m To update, run: \u001b[0m\u001b[32;49mpython3.11 -m pip install --upgrade pip\u001b[0m\n"
     ]
    }
   ],
   "source": [
    "!pip3 install opencv-python-headless"
   ]
  },
  {
   "cell_type": "code",
   "execution_count": 3,
   "metadata": {},
   "outputs": [],
   "source": [
    "from pytube import YouTube\n",
    "import os"
   ]
  },
  {
   "cell_type": "code",
   "execution_count": 25,
   "metadata": {},
   "outputs": [],
   "source": [
    "yt_string = \"https://www.youtube.com/watch?v=CGUFF7aXjTw\"\n",
    "path = \"/Users/trishitasingh/Desktop\"\n",
    "\n",
    "yt = YouTube(yt_string)"
   ]
  },
  {
   "cell_type": "code",
   "execution_count": 28,
   "metadata": {},
   "outputs": [],
   "source": [
    "video = yt.streams.filter(only_audio=True).first()"
   ]
  },
  {
   "cell_type": "code",
   "execution_count": 29,
   "metadata": {},
   "outputs": [],
   "source": [
    "out_file = video.download(output_path=path)\n",
    "\n",
    "base, ext = os.path.splitext(out_file)\n",
    "new_file = base + '.mp3'\n",
    "os.rename(out_file, new_file)"
   ]
  },
  {
   "cell_type": "code",
   "execution_count": 31,
   "metadata": {},
   "outputs": [
    {
     "name": "stdout",
     "output_type": "stream",
     "text": [
      "Breathing (Extended Mix) has been successfully downloaded.\n"
     ]
    }
   ],
   "source": [
    "# result of success\n",
    "print(yt.title + \" has been successfully downloaded.\")\n",
    "audio_file_path = path + \"/\" + yt.title + \".mp3\"\n",
    "\n",
    "image_file_path = path+\"/\"+'output_with_circle.avi'\n",
    "\n",
    "output_path = path+\"/\"+'output_with_audio_and_circle.mp4'"
   ]
  },
  {
   "cell_type": "code",
   "execution_count": 32,
   "metadata": {},
   "outputs": [
    {
     "name": "stderr",
     "output_type": "stream",
     "text": [
      "[src/libmpg123/parse.c:skip_junk():1276] error: Giving up searching valid MPEG header after 65536 bytes of junk.\n",
      "/var/folders/9s/38yb0xn536968pgvsk_rgxj40000gp/T/ipykernel_15275/915933488.py:7: UserWarning: PySoundFile failed. Trying audioread instead.\n",
      "  y, sr = librosa.load(audio_file_path, sr=None)\n",
      "/opt/homebrew/lib/python3.11/site-packages/librosa/core/audio.py:184: FutureWarning: librosa.core.audio.__audioread_load\n",
      "\tDeprecated as of librosa version 0.10.0.\n",
      "\tIt will be removed in librosa version 1.0.\n",
      "  y, sr_native = __audioread_load(path, offset, duration, dtype)\n"
     ]
    },
    {
     "name": "stdout",
     "output_type": "stream",
     "text": [
      "Video with circle created successfully!\n"
     ]
    },
    {
     "name": "stderr",
     "output_type": "stream",
     "text": [
      "ffmpeg version 6.0 Copyright (c) 2000-2023 the FFmpeg developers\n",
      "  built with Apple clang version 14.0.0 (clang-1400.0.29.202)\n",
      "  configuration: --prefix=/opt/homebrew/Cellar/ffmpeg/6.0 --enable-shared --enable-pthreads --enable-version3 --cc=clang --host-cflags= --host-ldflags= --enable-ffplay --enable-gnutls --enable-gpl --enable-libaom --enable-libaribb24 --enable-libbluray --enable-libdav1d --enable-libmp3lame --enable-libopus --enable-librav1e --enable-librist --enable-librubberband --enable-libsnappy --enable-libsrt --enable-libsvtav1 --enable-libtesseract --enable-libtheora --enable-libvidstab --enable-libvmaf --enable-libvorbis --enable-libvpx --enable-libwebp --enable-libx264 --enable-libx265 --enable-libxml2 --enable-libxvid --enable-lzma --enable-libfontconfig --enable-libfreetype --enable-frei0r --enable-libass --enable-libopencore-amrnb --enable-libopencore-amrwb --enable-libopenjpeg --enable-libspeex --enable-libsoxr --enable-libzmq --enable-libzimg --disable-libjack --disable-indev=jack --enable-videotoolbox --enable-audiotoolbox --enable-neon\n",
      "  libavutil      58.  2.100 / 58.  2.100\n",
      "  libavcodec     60.  3.100 / 60.  3.100\n",
      "  libavformat    60.  3.100 / 60.  3.100\n",
      "  libavdevice    60.  1.100 / 60.  1.100\n",
      "  libavfilter     9.  3.100 /  9.  3.100\n",
      "  libswscale      7.  1.100 /  7.  1.100\n",
      "  libswresample   4. 10.100 /  4. 10.100\n",
      "  libpostproc    57.  1.100 / 57.  1.100\n",
      "Input #0, avi, from '/Users/trishitasingh/Desktop/output_with_circle.avi':\n",
      "  Metadata:\n",
      "    software        : Lavf59.27.100\n",
      "  Duration: 00:06:20.93, start: 0.000000, bitrate: 734 kb/s\n",
      "  Stream #0:0: Video: mpeg4 (Simple Profile) (XVID / 0x44495658), yuv420p, 640x480 [SAR 1:1 DAR 4:3], 728 kb/s, 30 fps, 30 tbr, 30 tbn\n",
      "Input #1, mov,mp4,m4a,3gp,3g2,mj2, from '/Users/trishitasingh/Desktop/Breathing (Extended Mix).mp3':\n",
      "  Metadata:\n",
      "    major_brand     : dash\n",
      "    minor_version   : 0\n",
      "    compatible_brands: iso6mp41\n",
      "    creation_time   : 2020-03-11T14:47:10.000000Z\n",
      "  Duration: 00:06:20.96, start: 0.000000, bitrate: 48 kb/s\n",
      "  Stream #1:0[0x1](und): Audio: aac (HE-AAC) (mp4a / 0x6134706D), 44100 Hz, stereo, fltp, 1 kb/s (default)\n",
      "    Metadata:\n",
      "      creation_time   : 2020-03-11T14:47:10.000000Z\n",
      "      handler_name    : ISO Media file produced by Google Inc.\n",
      "      vendor_id       : [0][0][0][0]\n",
      "Stream mapping:\n",
      "  Stream #0:0 -> #0:0 (copy)\n",
      "  Stream #1:0 -> #0:1 (aac (native) -> aac (native))\n",
      "Press [q] to stop, [?] for help\n",
      "Output #0, mp4, to '/Users/trishitasingh/Desktop/output_with_audio_and_circle.mp4':\n",
      "  Metadata:\n",
      "    software        : Lavf59.27.100\n",
      "    encoder         : Lavf60.3.100\n",
      "  Stream #0:0: Video: mpeg4 (Simple Profile) (mp4v / 0x7634706D), yuv420p, 640x480 [SAR 1:1 DAR 4:3], q=2-31, 728 kb/s, 30 fps, 30 tbr, 15360 tbn\n",
      "  Stream #0:1(und): Audio: aac (LC) (mp4a / 0x6134706D), 44100 Hz, stereo, fltp, 128 kb/s (default)\n",
      "    Metadata:\n",
      "      creation_time   : 2020-03-11T14:47:10.000000Z\n",
      "      handler_name    : ISO Media file produced by Google Inc.\n",
      "      vendor_id       : [0][0][0][0]\n",
      "      encoder         : Lavc60.3.100 aac\n",
      "frame=11428 fps=2035 q=-1.0 Lsize=   40334kB time=00:06:20.94 bitrate= 867.4kbits/s speed=67.8x     \n",
      "video:33881kB audio:6108kB subtitle:0kB other streams:0kB global headers:0kB muxing overhead: 0.864566%\n",
      "[aac @ 0x11f909b50] Qavg: 445.121\n"
     ]
    },
    {
     "data": {
      "text/plain": [
       "CompletedProcess(args=['ffmpeg', '-i', '/Users/trishitasingh/Desktop/output_with_circle.avi', '-i', '/Users/trishitasingh/Desktop/Breathing (Extended Mix).mp3', '-c:v', 'copy', '-c:a', 'aac', '-strict', 'experimental', '/Users/trishitasingh/Desktop/output_with_audio_and_circle.mp4'], returncode=0)"
      ]
     },
     "execution_count": 32,
     "metadata": {},
     "output_type": "execute_result"
    }
   ],
   "source": [
    "import numpy as np\n",
    "import librosa\n",
    "import cv2\n",
    "from scipy.fft import fft\n",
    "\n",
    "# Load the audio file\n",
    "y, sr = librosa.load(audio_file_path, sr=None)\n",
    "\n",
    "# Parameters for video\n",
    "frame_rate = 30\n",
    "video_length = len(y) / sr\n",
    "num_frames = int(video_length * frame_rate)\n",
    "\n",
    "# Parameters for frequency extraction\n",
    "window_size = sr // frame_rate\n",
    "bass_min = 20\n",
    "bass_max = 150\n",
    "high_min = 150\n",
    "\n",
    "# Video writer setup\n",
    "fourcc = cv2.VideoWriter_fourcc(*'XVID')\n",
    "video_size = (640, 480)\n",
    "out = cv2.VideoWriter(image_file_path, fourcc, frame_rate, video_size)\n",
    "\n",
    "# Iterate through the audio by window, and create frames\n",
    "for i in range(num_frames):\n",
    "    start = i * window_size\n",
    "    end = (i + 1) * window_size\n",
    "    \n",
    "    # Extract frequencies for the current window\n",
    "    window = np.hanning(window_size)\n",
    "    segment = y[start:end] * window\n",
    "    frequencies = np.fft.fftfreq(len(segment), d=1/sr)\n",
    "    positive_frequencies = frequencies[frequencies >= 0]\n",
    "    magnitudes = np.abs(fft(segment))[frequencies >= 0]\n",
    "    bass_magnitudes = magnitudes[(positive_frequencies >= bass_min) & (positive_frequencies <= bass_max)]\n",
    "    high_magnitudes = magnitudes[positive_frequencies >= high_min]\n",
    "    \n",
    "    # Calculate blue intensity based on bass amplitude\n",
    "    intensity = int(np.mean(bass_magnitudes) * 255 / np.max(magnitudes))\n",
    "    frame = np.zeros((video_size[1], video_size[0], 3), dtype=np.uint8)\n",
    "    frame[:, :, 0] = intensity # Set blue channel\n",
    "    \n",
    "    # Draw a circle based on high-frequency amplitude\n",
    "    circle_radius = int(np.mean(high_magnitudes) * video_size[0] / (2 * np.max(magnitudes)))\n",
    "    cv2.circle(frame, (video_size[0]//2, video_size[1]//2), circle_radius, (255, 255, 255), -1) # Draw white circle\n",
    "    \n",
    "    # Write the frame to the video\n",
    "    out.write(frame)\n",
    "\n",
    "# Release video writer\n",
    "out.release()\n",
    "\n",
    "print(\"Video with circle created successfully!\")\n",
    "\n",
    "import subprocess\n",
    "\n",
    "\n",
    "command = ['ffmpeg', '-i', image_file_path, '-i', audio_file_path, '-c:v', 'copy', '-c:a', 'aac', '-strict', 'experimental', output_path]\n",
    "subprocess.run(command)"
   ]
  }
 ],
 "metadata": {
  "kernelspec": {
   "display_name": "Python 3",
   "language": "python",
   "name": "python3"
  },
  "language_info": {
   "codemirror_mode": {
    "name": "ipython",
    "version": 3
   },
   "file_extension": ".py",
   "mimetype": "text/x-python",
   "name": "python",
   "nbconvert_exporter": "python",
   "pygments_lexer": "ipython3",
   "version": "3.11.4"
  },
  "orig_nbformat": 4,
  "vscode": {
   "interpreter": {
    "hash": "b0fa6594d8f4cbf19f97940f81e996739fb7646882a419484c72d19e05852a7e"
   }
  }
 },
 "nbformat": 4,
 "nbformat_minor": 2
}
